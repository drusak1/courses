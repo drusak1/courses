{
 "cells": [
  {
   "cell_type": "code",
   "execution_count": null,
   "metadata": {},
   "outputs": [],
   "source": [
    "#! pip install git+https://github.com/sberbank-ai-lab/LightAutoML.git@master"
   ]
  },
  {
   "cell_type": "markdown",
   "metadata": {},
   "source": [
    "# Imports"
   ]
  },
  {
   "cell_type": "code",
   "execution_count": 1,
   "metadata": {},
   "outputs": [],
   "source": [
    "import pandas as pd"
   ]
  },
  {
   "cell_type": "code",
   "execution_count": 2,
   "metadata": {},
   "outputs": [],
   "source": [
    "from lightautoml.tasks import Task\n",
    "from lightautoml.addons.uplift.base import AutoUplift\n",
    "from lightautoml.addons.uplift.metrics import calculate_uplift_auc"
   ]
  },
  {
   "cell_type": "code",
   "execution_count": 3,
   "metadata": {},
   "outputs": [],
   "source": [
    "from sklearn.model_selection import train_test_split"
   ]
  },
  {
   "cell_type": "markdown",
   "metadata": {},
   "source": [
    "# Load data & prepare"
   ]
  },
  {
   "cell_type": "code",
   "execution_count": 6,
   "metadata": {},
   "outputs": [],
   "source": [
    "train_df = pd.read_csv('train.csv')\n",
    "test_df  = pd.read_csv('test.csv')\n",
    "submission_df = pd.read_csv('submission_uplift.csv')"
   ]
  },
  {
   "cell_type": "code",
   "execution_count": 7,
   "metadata": {},
   "outputs": [
    {
     "data": {
      "text/html": [
       "<div>\n",
       "<style scoped>\n",
       "    .dataframe tbody tr th:only-of-type {\n",
       "        vertical-align: middle;\n",
       "    }\n",
       "\n",
       "    .dataframe tbody tr th {\n",
       "        vertical-align: top;\n",
       "    }\n",
       "\n",
       "    .dataframe thead th {\n",
       "        text-align: right;\n",
       "    }\n",
       "</style>\n",
       "<table border=\"1\" class=\"dataframe\">\n",
       "  <thead>\n",
       "    <tr style=\"text-align: right;\">\n",
       "      <th></th>\n",
       "      <th>id</th>\n",
       "      <th>age</th>\n",
       "      <th>cheque_count_12m_g20</th>\n",
       "      <th>cheque_count_12m_g21</th>\n",
       "      <th>cheque_count_12m_g25</th>\n",
       "      <th>cheque_count_12m_g32</th>\n",
       "      <th>cheque_count_12m_g33</th>\n",
       "      <th>cheque_count_12m_g38</th>\n",
       "      <th>cheque_count_12m_g39</th>\n",
       "      <th>cheque_count_12m_g41</th>\n",
       "      <th>...</th>\n",
       "      <th>sale_sum_3m_g26</th>\n",
       "      <th>sale_sum_3m_g32</th>\n",
       "      <th>sale_sum_3m_g33</th>\n",
       "      <th>sale_sum_6m_g24</th>\n",
       "      <th>sale_sum_6m_g25</th>\n",
       "      <th>sale_sum_6m_g26</th>\n",
       "      <th>sale_sum_6m_g32</th>\n",
       "      <th>sale_sum_6m_g33</th>\n",
       "      <th>sale_sum_6m_g44</th>\n",
       "      <th>sale_sum_6m_g54</th>\n",
       "    </tr>\n",
       "  </thead>\n",
       "  <tbody>\n",
       "    <tr>\n",
       "      <th>0</th>\n",
       "      <td>0</td>\n",
       "      <td>34.0</td>\n",
       "      <td>1.0</td>\n",
       "      <td>2.0</td>\n",
       "      <td>2.0</td>\n",
       "      <td>2.0</td>\n",
       "      <td>3.0</td>\n",
       "      <td>2.0</td>\n",
       "      <td>0.0</td>\n",
       "      <td>2.0</td>\n",
       "      <td>...</td>\n",
       "      <td>55.78</td>\n",
       "      <td>42.19</td>\n",
       "      <td>637.99</td>\n",
       "      <td>0.00</td>\n",
       "      <td>47.49</td>\n",
       "      <td>55.78</td>\n",
       "      <td>42.19</td>\n",
       "      <td>637.99</td>\n",
       "      <td>553.14</td>\n",
       "      <td>114.96</td>\n",
       "    </tr>\n",
       "    <tr>\n",
       "      <th>1</th>\n",
       "      <td>1</td>\n",
       "      <td>27.0</td>\n",
       "      <td>35.0</td>\n",
       "      <td>38.0</td>\n",
       "      <td>4.0</td>\n",
       "      <td>50.0</td>\n",
       "      <td>7.0</td>\n",
       "      <td>38.0</td>\n",
       "      <td>2.0</td>\n",
       "      <td>11.0</td>\n",
       "      <td>...</td>\n",
       "      <td>92.77</td>\n",
       "      <td>1237.90</td>\n",
       "      <td>210.90</td>\n",
       "      <td>745.46</td>\n",
       "      <td>299.69</td>\n",
       "      <td>340.97</td>\n",
       "      <td>3543.02</td>\n",
       "      <td>524.12</td>\n",
       "      <td>677.29</td>\n",
       "      <td>707.53</td>\n",
       "    </tr>\n",
       "    <tr>\n",
       "      <th>2</th>\n",
       "      <td>2</td>\n",
       "      <td>28.0</td>\n",
       "      <td>1.0</td>\n",
       "      <td>0.0</td>\n",
       "      <td>0.0</td>\n",
       "      <td>0.0</td>\n",
       "      <td>1.0</td>\n",
       "      <td>0.0</td>\n",
       "      <td>1.0</td>\n",
       "      <td>1.0</td>\n",
       "      <td>...</td>\n",
       "      <td>NaN</td>\n",
       "      <td>NaN</td>\n",
       "      <td>NaN</td>\n",
       "      <td>169.52</td>\n",
       "      <td>0.00</td>\n",
       "      <td>26.99</td>\n",
       "      <td>0.00</td>\n",
       "      <td>27.59</td>\n",
       "      <td>0.00</td>\n",
       "      <td>208.63</td>\n",
       "    </tr>\n",
       "    <tr>\n",
       "      <th>3</th>\n",
       "      <td>3</td>\n",
       "      <td>32.0</td>\n",
       "      <td>0.0</td>\n",
       "      <td>4.0</td>\n",
       "      <td>4.0</td>\n",
       "      <td>2.0</td>\n",
       "      <td>3.0</td>\n",
       "      <td>2.0</td>\n",
       "      <td>2.0</td>\n",
       "      <td>5.0</td>\n",
       "      <td>...</td>\n",
       "      <td>846.80</td>\n",
       "      <td>213.37</td>\n",
       "      <td>556.10</td>\n",
       "      <td>841.96</td>\n",
       "      <td>430.47</td>\n",
       "      <td>1015.73</td>\n",
       "      <td>213.37</td>\n",
       "      <td>556.10</td>\n",
       "      <td>169.49</td>\n",
       "      <td>288.63</td>\n",
       "    </tr>\n",
       "    <tr>\n",
       "      <th>4</th>\n",
       "      <td>4</td>\n",
       "      <td>51.0</td>\n",
       "      <td>3.0</td>\n",
       "      <td>2.0</td>\n",
       "      <td>0.0</td>\n",
       "      <td>0.0</td>\n",
       "      <td>0.0</td>\n",
       "      <td>0.0</td>\n",
       "      <td>0.0</td>\n",
       "      <td>1.0</td>\n",
       "      <td>...</td>\n",
       "      <td>18.89</td>\n",
       "      <td>0.00</td>\n",
       "      <td>0.00</td>\n",
       "      <td>68.93</td>\n",
       "      <td>0.00</td>\n",
       "      <td>34.98</td>\n",
       "      <td>0.00</td>\n",
       "      <td>0.00</td>\n",
       "      <td>1395.36</td>\n",
       "      <td>139.19</td>\n",
       "    </tr>\n",
       "  </tbody>\n",
       "</table>\n",
       "<p>5 rows × 193 columns</p>\n",
       "</div>"
      ],
      "text/plain": [
       "   id   age  cheque_count_12m_g20  cheque_count_12m_g21  cheque_count_12m_g25  \\\n",
       "0   0  34.0                   1.0                   2.0                   2.0   \n",
       "1   1  27.0                  35.0                  38.0                   4.0   \n",
       "2   2  28.0                   1.0                   0.0                   0.0   \n",
       "3   3  32.0                   0.0                   4.0                   4.0   \n",
       "4   4  51.0                   3.0                   2.0                   0.0   \n",
       "\n",
       "   cheque_count_12m_g32  cheque_count_12m_g33  cheque_count_12m_g38  \\\n",
       "0                   2.0                   3.0                   2.0   \n",
       "1                  50.0                   7.0                  38.0   \n",
       "2                   0.0                   1.0                   0.0   \n",
       "3                   2.0                   3.0                   2.0   \n",
       "4                   0.0                   0.0                   0.0   \n",
       "\n",
       "   cheque_count_12m_g39  cheque_count_12m_g41  ...  sale_sum_3m_g26  \\\n",
       "0                   0.0                   2.0  ...            55.78   \n",
       "1                   2.0                  11.0  ...            92.77   \n",
       "2                   1.0                   1.0  ...              NaN   \n",
       "3                   2.0                   5.0  ...           846.80   \n",
       "4                   0.0                   1.0  ...            18.89   \n",
       "\n",
       "   sale_sum_3m_g32  sale_sum_3m_g33  sale_sum_6m_g24  sale_sum_6m_g25  \\\n",
       "0            42.19           637.99             0.00            47.49   \n",
       "1          1237.90           210.90           745.46           299.69   \n",
       "2              NaN              NaN           169.52             0.00   \n",
       "3           213.37           556.10           841.96           430.47   \n",
       "4             0.00             0.00            68.93             0.00   \n",
       "\n",
       "   sale_sum_6m_g26  sale_sum_6m_g32  sale_sum_6m_g33  sale_sum_6m_g44  \\\n",
       "0            55.78            42.19           637.99           553.14   \n",
       "1           340.97          3543.02           524.12           677.29   \n",
       "2            26.99             0.00            27.59             0.00   \n",
       "3          1015.73           213.37           556.10           169.49   \n",
       "4            34.98             0.00             0.00          1395.36   \n",
       "\n",
       "   sale_sum_6m_g54  \n",
       "0           114.96  \n",
       "1           707.53  \n",
       "2           208.63  \n",
       "3           288.63  \n",
       "4           139.19  \n",
       "\n",
       "[5 rows x 193 columns]"
      ]
     },
     "execution_count": 7,
     "metadata": {},
     "output_type": "execute_result"
    }
   ],
   "source": [
    "train_df.head()"
   ]
  },
  {
   "cell_type": "code",
   "execution_count": 8,
   "metadata": {},
   "outputs": [],
   "source": [
    "TARGET_NAME = 'target'\n",
    "TREATMENT_NAME = 'group'"
   ]
  },
  {
   "cell_type": "code",
   "execution_count": 9,
   "metadata": {},
   "outputs": [],
   "source": [
    "train_df[TREATMENT_NAME] = (train_df[TREATMENT_NAME] == 'test').astype(int)"
   ]
  },
  {
   "cell_type": "code",
   "execution_count": 10,
   "metadata": {},
   "outputs": [],
   "source": [
    "train_df.drop('id', axis=1, inplace=True)\n",
    "test_df.drop('id', axis=1, inplace=True)"
   ]
  },
  {
   "cell_type": "code",
   "execution_count": 11,
   "metadata": {},
   "outputs": [],
   "source": [
    "stratify_val = train_df[[TARGET_NAME, TREATMENT_NAME]]"
   ]
  },
  {
   "cell_type": "code",
   "execution_count": 12,
   "metadata": {},
   "outputs": [],
   "source": [
    "train_df, valid_df = train_test_split(\n",
    "    train_df,\n",
    "    stratify=stratify_val,\n",
    "    shuffle=True,\n",
    "    random_state=100\n",
    ")"
   ]
  },
  {
   "cell_type": "code",
   "execution_count": 13,
   "metadata": {},
   "outputs": [],
   "source": [
    "valid_target = valid_df[TARGET_NAME].values.ravel()\n",
    "valid_treatment = valid_df[TREATMENT_NAME].values.ravel()"
   ]
  },
  {
   "cell_type": "markdown",
   "metadata": {},
   "source": [
    "# Training"
   ]
  },
  {
   "cell_type": "code",
   "execution_count": 14,
   "metadata": {},
   "outputs": [],
   "source": [
    "TIMEOUT = 60 * 3  # 30 min"
   ]
  },
  {
   "cell_type": "code",
   "execution_count": 15,
   "metadata": {},
   "outputs": [],
   "source": [
    "roles = {\n",
    "    'target': TARGET_NAME,\n",
    "    'treatment': TREATMENT_NAME\n",
    "}"
   ]
  },
  {
   "cell_type": "code",
   "execution_count": 16,
   "metadata": {},
   "outputs": [],
   "source": [
    "autouplift = AutoUplift(\n",
    "    base_task=Task('binary'),\n",
    "    timeout=TIMEOUT\n",
    ")"
   ]
  },
  {
   "cell_type": "code",
   "execution_count": 17,
   "metadata": {},
   "outputs": [
    {
     "name": "stderr",
     "output_type": "stream",
     "text": [
      "C:\\Users\\User\\AppData\\Local\\Programs\\Python\\Python37\\lib\\site-packages\\pandas\\core\\frame.py:4174: SettingWithCopyWarning: \n",
      "A value is trying to be set on a copy of a slice from a DataFrame\n",
      "\n",
      "See the caveats in the documentation: https://pandas.pydata.org/pandas-docs/stable/user_guide/indexing.html#returning-a-view-versus-a-copy\n",
      "  errors=errors,\n"
     ]
    },
    {
     "name": "stdout",
     "output_type": "stream",
     "text": [
      "Wall time: 5min 6s\n"
     ]
    }
   ],
   "source": [
    "%%time\n",
    "\n",
    "autouplift.fit(train_df, roles)"
   ]
  },
  {
   "cell_type": "code",
   "execution_count": 18,
   "metadata": {},
   "outputs": [],
   "source": [
    "uplift_pred, _, _  = autouplift.predict(valid_df)"
   ]
  },
  {
   "cell_type": "code",
   "execution_count": 19,
   "metadata": {},
   "outputs": [],
   "source": [
    "cum_gain = calculate_uplift_auc(\n",
    "    valid_target,\n",
    "    uplift_pred,\n",
    "    valid_treatment\n",
    ")"
   ]
  },
  {
   "cell_type": "code",
   "execution_count": 20,
   "metadata": {},
   "outputs": [
    {
     "name": "stdout",
     "output_type": "stream",
     "text": [
      "0.021101254029912274\n"
     ]
    }
   ],
   "source": [
    "print(cum_gain)"
   ]
  },
  {
   "cell_type": "markdown",
   "metadata": {},
   "source": [
    "# Make submission"
   ]
  },
  {
   "cell_type": "code",
   "execution_count": 21,
   "metadata": {},
   "outputs": [],
   "source": [
    "uplift_pred, _, _ = autouplift.predict(test_df)"
   ]
  },
  {
   "cell_type": "code",
   "execution_count": 22,
   "metadata": {},
   "outputs": [],
   "source": [
    "submission_df['uplift'] = uplift_pred"
   ]
  },
  {
   "cell_type": "code",
   "execution_count": 24,
   "metadata": {},
   "outputs": [],
   "source": [
    "submission_df.to_csv('baseline_submission.csv', index=False)"
   ]
  },
  {
   "cell_type": "code",
   "execution_count": null,
   "metadata": {},
   "outputs": [],
   "source": []
  }
 ],
 "metadata": {
  "kernelspec": {
   "display_name": "Python 3 (ipykernel)",
   "language": "python",
   "name": "python3"
  },
  "language_info": {
   "codemirror_mode": {
    "name": "ipython",
    "version": 3
   },
   "file_extension": ".py",
   "mimetype": "text/x-python",
   "name": "python",
   "nbconvert_exporter": "python",
   "pygments_lexer": "ipython3",
   "version": "3.7.0"
  },
  "toc": {
   "base_numbering": 1,
   "nav_menu": {},
   "number_sections": true,
   "sideBar": true,
   "skip_h1_title": false,
   "title_cell": "Table of Contents",
   "title_sidebar": "Contents",
   "toc_cell": false,
   "toc_position": {},
   "toc_section_display": true,
   "toc_window_display": true
  }
 },
 "nbformat": 4,
 "nbformat_minor": 4
}
