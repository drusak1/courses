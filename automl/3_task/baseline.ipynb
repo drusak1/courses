{
 "cells": [
  {
   "cell_type": "code",
   "execution_count": 1,
   "id": "ab607739",
   "metadata": {},
   "outputs": [],
   "source": [
    "#! pip install autowoe"
   ]
  },
  {
   "cell_type": "markdown",
   "id": "d2767c89",
   "metadata": {},
   "source": [
    "# Imports"
   ]
  },
  {
   "cell_type": "code",
   "execution_count": 3,
   "id": "2785c9dd",
   "metadata": {},
   "outputs": [],
   "source": [
    "import pandas as pd\n",
    "import numpy as np\n",
    "from autowoe import AutoWoE\n",
    "from sklearn.metrics import roc_auc_score\n",
    "from sklearn.model_selection import train_test_split"
   ]
  },
  {
   "cell_type": "markdown",
   "id": "07243497",
   "metadata": {},
   "source": [
    "# Load data & prepare"
   ]
  },
  {
   "cell_type": "code",
   "execution_count": 4,
   "id": "7c0e1ca9",
   "metadata": {},
   "outputs": [],
   "source": [
    "train_data = pd.read_csv('train.csv')\n",
    "test_data = pd.read_csv('test.csv')\n",
    "submission_df = pd.read_csv('submission.csv')"
   ]
  },
  {
   "cell_type": "code",
   "execution_count": 5,
   "metadata": {},
   "outputs": [
    {
     "data": {
      "text/plain": [
       "'def create_col_with_min_freq(data, col, min_freq = 10):\\n    # replace rare values (less than min_freq rows) in feature by RARE_VALUE\\n    data[col + \\'_fixed\\'] = data[col].astype(str)\\n    data.loc[data[col + \\'_fixed\\'].value_counts()[data[col + \\'_fixed\\']].values < min_freq, col + \\'_fixed\\'] = \"RARE_VALUE\"\\n    data.replace({\\'nan\\': np.nan}, inplace = True)\\n    \\ndef create_gr_feats(data):\\n    # create aggregation feats for numeric features based on categorical ones\\n    for cat_col in [\\'feat_100_1\\', \\'feat_100_2\\', \\'feat_100_3\\',\\n                   \\'feat_100_4\\', \\'feat_100_5\\',]:\\n        create_col_with_min_freq(data, cat_col, 15)\\n        for num_col in [\\'C_1\\', \\'B_1\\',]:\\n            for n, f in [(\\'mean\\', np.mean), (\\'min\\', np.nanmin), (\\'max\\', np.nanmax)]:\\n                data[\\'FIXED_\\' + n + \\'_\\' + num_col + \\'_by_\\' + cat_col] = data.groupby(cat_col + \\'_fixed\\')[num_col].transform(f)\\n                \\n    # create features with counts\\n    for col in [\\'feat_100_1\\', \\'feat_100_2\\', \\'feat_100_3\\',\\n                   \\'feat_100_4\\', \\'feat_100_5\\']:\\n        data[col + \\'_cnt\\'] = data[col].map(data[col].value_counts(dropna = False))\\n        \\n\\nall_df = pd.concat([train_data, test_data]).reset_index(drop = True)\\ncreate_gr_feats(all_df)\\ntrain_data, test_data = all_df[:len(train_data)], all_df[len(train_data):]'"
      ]
     },
     "execution_count": 5,
     "metadata": {},
     "output_type": "execute_result"
    }
   ],
   "source": [
    "\"\"\"def create_col_with_min_freq(data, col, min_freq = 10):\n",
    "    # replace rare values (less than min_freq rows) in feature by RARE_VALUE\n",
    "    data[col + '_fixed'] = data[col].astype(str)\n",
    "    data.loc[data[col + '_fixed'].value_counts()[data[col + '_fixed']].values < min_freq, col + '_fixed'] = \"RARE_VALUE\"\n",
    "    data.replace({'nan': np.nan}, inplace = True)\n",
    "    \n",
    "def create_gr_feats(data):\n",
    "    # create aggregation feats for numeric features based on categorical ones\n",
    "    for cat_col in ['feat_100_1', 'feat_100_2', 'feat_100_3',\n",
    "                   'feat_100_4', 'feat_100_5',]:\n",
    "        create_col_with_min_freq(data, cat_col, 15)\n",
    "        for num_col in ['C_1', 'B_1',]:\n",
    "            for n, f in [('mean', np.mean), ('min', np.nanmin), ('max', np.nanmax)]:\n",
    "                data['FIXED_' + n + '_' + num_col + '_by_' + cat_col] = data.groupby(cat_col + '_fixed')[num_col].transform(f)\n",
    "                \n",
    "    # create features with counts\n",
    "    for col in ['feat_100_1', 'feat_100_2', 'feat_100_3',\n",
    "                   'feat_100_4', 'feat_100_5']:\n",
    "        data[col + '_cnt'] = data[col].map(data[col].value_counts(dropna = False))\n",
    "        \n",
    "\n",
    "all_df = pd.concat([train_data, test_data]).reset_index(drop = True)\n",
    "create_gr_feats(all_df)\n",
    "train_data, test_data = all_df[:len(train_data)], all_df[len(train_data):]\"\"\""
   ]
  },
  {
   "cell_type": "code",
   "execution_count": 6,
   "id": "948f2571",
   "metadata": {},
   "outputs": [
    {
     "data": {
      "text/html": [
       "<div>\n",
       "<style scoped>\n",
       "    .dataframe tbody tr th:only-of-type {\n",
       "        vertical-align: middle;\n",
       "    }\n",
       "\n",
       "    .dataframe tbody tr th {\n",
       "        vertical-align: top;\n",
       "    }\n",
       "\n",
       "    .dataframe thead th {\n",
       "        text-align: right;\n",
       "    }\n",
       "</style>\n",
       "<table border=\"1\" class=\"dataframe\">\n",
       "  <thead>\n",
       "    <tr style=\"text-align: right;\">\n",
       "      <th></th>\n",
       "      <th>id</th>\n",
       "      <th>C_0</th>\n",
       "      <th>C_1</th>\n",
       "      <th>C_2</th>\n",
       "      <th>C_3</th>\n",
       "      <th>C_4</th>\n",
       "      <th>C_5</th>\n",
       "      <th>C_6</th>\n",
       "      <th>C_7</th>\n",
       "      <th>C_8</th>\n",
       "      <th>...</th>\n",
       "      <th>B_56</th>\n",
       "      <th>B_57</th>\n",
       "      <th>B_58</th>\n",
       "      <th>B_59</th>\n",
       "      <th>feat_100_1</th>\n",
       "      <th>feat_100_2</th>\n",
       "      <th>feat_100_3</th>\n",
       "      <th>feat_100_4</th>\n",
       "      <th>feat_100_5</th>\n",
       "      <th>target</th>\n",
       "    </tr>\n",
       "  </thead>\n",
       "  <tbody>\n",
       "    <tr>\n",
       "      <th>0</th>\n",
       "      <td>0</td>\n",
       "      <td>-1.7790</td>\n",
       "      <td>-0.6060</td>\n",
       "      <td>0.1906</td>\n",
       "      <td>0.3062</td>\n",
       "      <td>-1.5210</td>\n",
       "      <td>-0.2082</td>\n",
       "      <td>0.5510</td>\n",
       "      <td>0.1784</td>\n",
       "      <td>-0.5297</td>\n",
       "      <td>...</td>\n",
       "      <td>-1.025402</td>\n",
       "      <td>0.231713</td>\n",
       "      <td>0.073569</td>\n",
       "      <td>-0.359106</td>\n",
       "      <td>0</td>\n",
       "      <td>2</td>\n",
       "      <td>1</td>\n",
       "      <td>2</td>\n",
       "      <td>3</td>\n",
       "      <td>0</td>\n",
       "    </tr>\n",
       "    <tr>\n",
       "      <th>1</th>\n",
       "      <td>1</td>\n",
       "      <td>-0.1853</td>\n",
       "      <td>-0.1236</td>\n",
       "      <td>0.7319</td>\n",
       "      <td>-0.4460</td>\n",
       "      <td>-0.0055</td>\n",
       "      <td>0.2396</td>\n",
       "      <td>-0.5211</td>\n",
       "      <td>0.7877</td>\n",
       "      <td>-0.3647</td>\n",
       "      <td>...</td>\n",
       "      <td>1.448978</td>\n",
       "      <td>-1.894126</td>\n",
       "      <td>0.141569</td>\n",
       "      <td>-0.899142</td>\n",
       "      <td>0</td>\n",
       "      <td>0</td>\n",
       "      <td>0</td>\n",
       "      <td>0</td>\n",
       "      <td>2</td>\n",
       "      <td>0</td>\n",
       "    </tr>\n",
       "    <tr>\n",
       "      <th>2</th>\n",
       "      <td>2</td>\n",
       "      <td>1.1940</td>\n",
       "      <td>0.2155</td>\n",
       "      <td>0.6262</td>\n",
       "      <td>1.7200</td>\n",
       "      <td>0.0688</td>\n",
       "      <td>1.0690</td>\n",
       "      <td>1.0990</td>\n",
       "      <td>0.9081</td>\n",
       "      <td>0.6513</td>\n",
       "      <td>...</td>\n",
       "      <td>-0.521487</td>\n",
       "      <td>-1.272666</td>\n",
       "      <td>-0.668533</td>\n",
       "      <td>-0.993069</td>\n",
       "      <td>1</td>\n",
       "      <td>2</td>\n",
       "      <td>0</td>\n",
       "      <td>2</td>\n",
       "      <td>3</td>\n",
       "      <td>0</td>\n",
       "    </tr>\n",
       "    <tr>\n",
       "      <th>3</th>\n",
       "      <td>3</td>\n",
       "      <td>0.5445</td>\n",
       "      <td>0.1486</td>\n",
       "      <td>-1.0790</td>\n",
       "      <td>-0.7789</td>\n",
       "      <td>0.0671</td>\n",
       "      <td>-0.5055</td>\n",
       "      <td>-0.9356</td>\n",
       "      <td>0.4150</td>\n",
       "      <td>-0.2520</td>\n",
       "      <td>...</td>\n",
       "      <td>1.371463</td>\n",
       "      <td>-0.343640</td>\n",
       "      <td>0.289540</td>\n",
       "      <td>-0.714268</td>\n",
       "      <td>0</td>\n",
       "      <td>2</td>\n",
       "      <td>0</td>\n",
       "      <td>2</td>\n",
       "      <td>2</td>\n",
       "      <td>0</td>\n",
       "    </tr>\n",
       "    <tr>\n",
       "      <th>4</th>\n",
       "      <td>4</td>\n",
       "      <td>-1.0880</td>\n",
       "      <td>-0.4271</td>\n",
       "      <td>1.1520</td>\n",
       "      <td>0.1212</td>\n",
       "      <td>0.5306</td>\n",
       "      <td>-2.2490</td>\n",
       "      <td>0.7976</td>\n",
       "      <td>0.0174</td>\n",
       "      <td>-0.0495</td>\n",
       "      <td>...</td>\n",
       "      <td>0.041749</td>\n",
       "      <td>0.187665</td>\n",
       "      <td>0.841361</td>\n",
       "      <td>-0.383784</td>\n",
       "      <td>0</td>\n",
       "      <td>2</td>\n",
       "      <td>0</td>\n",
       "      <td>2</td>\n",
       "      <td>2</td>\n",
       "      <td>0</td>\n",
       "    </tr>\n",
       "  </tbody>\n",
       "</table>\n",
       "<p>5 rows × 247 columns</p>\n",
       "</div>"
      ],
      "text/plain": [
       "   id     C_0     C_1     C_2     C_3     C_4     C_5     C_6     C_7     C_8  \\\n",
       "0   0 -1.7790 -0.6060  0.1906  0.3062 -1.5210 -0.2082  0.5510  0.1784 -0.5297   \n",
       "1   1 -0.1853 -0.1236  0.7319 -0.4460 -0.0055  0.2396 -0.5211  0.7877 -0.3647   \n",
       "2   2  1.1940  0.2155  0.6262  1.7200  0.0688  1.0690  1.0990  0.9081  0.6513   \n",
       "3   3  0.5445  0.1486 -1.0790 -0.7789  0.0671 -0.5055 -0.9356  0.4150 -0.2520   \n",
       "4   4 -1.0880 -0.4271  1.1520  0.1212  0.5306 -2.2490  0.7976  0.0174 -0.0495   \n",
       "\n",
       "   ...      B_56      B_57      B_58      B_59  feat_100_1  feat_100_2  \\\n",
       "0  ... -1.025402  0.231713  0.073569 -0.359106           0           2   \n",
       "1  ...  1.448978 -1.894126  0.141569 -0.899142           0           0   \n",
       "2  ... -0.521487 -1.272666 -0.668533 -0.993069           1           2   \n",
       "3  ...  1.371463 -0.343640  0.289540 -0.714268           0           2   \n",
       "4  ...  0.041749  0.187665  0.841361 -0.383784           0           2   \n",
       "\n",
       "   feat_100_3  feat_100_4  feat_100_5  target  \n",
       "0           1           2           3       0  \n",
       "1           0           0           2       0  \n",
       "2           0           2           3       0  \n",
       "3           0           2           2       0  \n",
       "4           0           2           2       0  \n",
       "\n",
       "[5 rows x 247 columns]"
      ]
     },
     "execution_count": 6,
     "metadata": {},
     "output_type": "execute_result"
    }
   ],
   "source": [
    "train_data.head()"
   ]
  },
  {
   "cell_type": "code",
   "execution_count": 8,
   "id": "a7f8c046",
   "metadata": {},
   "outputs": [],
   "source": [
    "train_data.drop('id', axis=1, inplace=True)\n",
    "test_data.drop('id', axis=1, inplace=True)"
   ]
  },
  {
   "cell_type": "code",
   "execution_count": 9,
   "id": "d9c628cc",
   "metadata": {},
   "outputs": [],
   "source": [
    "train_df, valid_df = train_test_split(\n",
    "    train_data,\n",
    "    stratify=train_data['target'],\n",
    "    shuffle=True,\n",
    "    random_state=100\n",
    ")"
   ]
  },
  {
   "cell_type": "markdown",
   "id": "246a6205",
   "metadata": {},
   "source": [
    "# Training"
   ]
  },
  {
   "cell_type": "code",
   "execution_count": 17,
   "id": "1661e455",
   "metadata": {},
   "outputs": [],
   "source": [
    "autowoe = AutoWoE(verbose=0,\n",
    "                monotonic=False,\n",
    "                select_type = 100,\n",
    "                 vif_th=20.,\n",
    "                 th_const=32,\n",
    "                 force_single_split=True,\n",
    "                 oof_woe=True,\n",
    "                 n_folds=5,\n",
    "                 n_jobs=4,\n",
    "                 regularized_refit=True)"
   ]
  },
  {
   "cell_type": "code",
   "execution_count": 18,
   "id": "b9c25df8",
   "metadata": {},
   "outputs": [],
   "source": [
    "max_bin_count = {col: 7 for col in train_df.columns}"
   ]
  },
  {
   "cell_type": "code",
   "execution_count": 19,
   "id": "b01cdb85",
   "metadata": {
    "scrolled": true
   },
   "outputs": [],
   "source": [
    "autowoe.fit(\n",
    "    train_df, \n",
    "    target_name=\"target\",\n",
    "    #max_bin_count=max_bin_count,\n",
    ")"
   ]
  },
  {
   "cell_type": "code",
   "execution_count": 20,
   "id": "542d54df",
   "metadata": {},
   "outputs": [
    {
     "data": {
      "text/plain": [
       "0.8289010463103793"
      ]
     },
     "execution_count": 20,
     "metadata": {},
     "output_type": "execute_result"
    }
   ],
   "source": [
    "pred = autowoe.predict_proba(valid_df)\n",
    "roc_auc_score(valid_df['target'], pred)"
   ]
  },
  {
   "cell_type": "markdown",
   "id": "ba6b6e6a",
   "metadata": {},
   "source": [
    "# Make submission"
   ]
  },
  {
   "cell_type": "code",
   "execution_count": 21,
   "id": "4551f8f7",
   "metadata": {},
   "outputs": [],
   "source": [
    "pred = autowoe.predict_proba(test_data)"
   ]
  },
  {
   "cell_type": "code",
   "execution_count": 22,
   "id": "6c5c2f92",
   "metadata": {},
   "outputs": [],
   "source": [
    "submission_df['pred'] = pred"
   ]
  },
  {
   "cell_type": "code",
   "execution_count": 23,
   "id": "c2f0f54e",
   "metadata": {},
   "outputs": [],
   "source": [
    "submission_df.to_csv('baseline_submission.csv', index=False)"
   ]
  },
  {
   "cell_type": "code",
   "execution_count": null,
   "metadata": {},
   "outputs": [],
   "source": []
  }
 ],
 "metadata": {
  "interpreter": {
   "hash": "9164a3399a70d355c381b62813f30880ed90ca5a6f321bf0d85375640bda7ee5"
  },
  "kernelspec": {
   "display_name": "Python 3.7.0 64-bit",
   "name": "python3"
  },
  "language_info": {
   "codemirror_mode": {
    "name": "ipython",
    "version": 3
   },
   "file_extension": ".py",
   "mimetype": "text/x-python",
   "name": "python",
   "nbconvert_exporter": "python",
   "pygments_lexer": "ipython3",
   "version": "3.7.0"
  },
  "toc": {
   "base_numbering": 1,
   "nav_menu": {},
   "number_sections": true,
   "sideBar": true,
   "skip_h1_title": false,
   "title_cell": "Table of Contents",
   "title_sidebar": "Contents",
   "toc_cell": false,
   "toc_position": {},
   "toc_section_display": true,
   "toc_window_display": false
  }
 },
 "nbformat": 4,
 "nbformat_minor": 5
}
