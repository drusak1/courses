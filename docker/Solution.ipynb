{
 "cells": [
  {
   "attachments": {},
   "cell_type": "markdown",
   "metadata": {},
   "source": [
    "1. Установить последнюю версию docker из официальных apt репозиториев.\n",
    "\n",
    "2. Запустите контейнер с именем web со следующими параметрами:\n",
    "- Имя контейнера должно быть `web`\n",
    "- Образ контейнера должен быть `nginx:latest` (с обязательным указанием тега)\n",
    "- Контейнер должен быть доступен на порту `9099`\n",
    "- Директория `/var/log/nginx` внутри контейнера должна быть смонтирована в директорию `/data/nginx/logs` на хост системе\n",
    "- При запуске контейнера должна быть добавлена переменная окружения `logging` = `true`"
   ]
  },
  {
   "cell_type": "code",
   "execution_count": null,
   "metadata": {},
   "outputs": [],
   "source": [
    "docker run -d --name web -p 9099:80 -v /data/nginx/logs:/var/log/nginx -e logging=true nginx:latest"
   ]
  },
  {
   "attachments": {},
   "cell_type": "markdown",
   "metadata": {},
   "source": [
    "1. Установить последнюю версию docker из официальных apt репозиториев.\n",
    "\n",
    "2. Настроить docker daemon таким образом, чтобы он слушал входящие подключения на всех интерфейсах (0.0.0.0) на порту 2375 без использования TLS.\n",
    "\n",
    "3. Создать контекст с именем remote-docker, который будет подключаться к вашему docker daemon по любому интерфейсу, кроме loopback интерфейса.\n",
    "\n",
    "4. Создайте две сети с драйвером bridge и именами cache и front.\n",
    "\n",
    "5. Запустите контейнер с именем redis и образом redis:latest (с обязательным указанием тега) в сети cache.\n",
    "\n",
    "6. Подключите контейнер redis к сети front."
   ]
  },
  {
   "cell_type": "code",
   "execution_count": null,
   "metadata": {},
   "outputs": [],
   "source": [
    "sudo nano /etc/docker/daemon.json\n",
    "{\n",
    "  \"hosts\": [\"tcp://0.0.0.0:2375\", \"unix:///var/run/docker.sock\"]\n",
    "}\n",
    "docker context create remote-docker tcp://0.0.0.0:2375\n",
    "docker network create --driver=bridge cache\n",
    "docker network create --driver=bridge front\n",
    "docker run --name redis --network=cache redis:latest\n",
    "docker network connect front redis"
   ]
  },
  {
   "attachments": {},
   "cell_type": "markdown",
   "metadata": {},
   "source": [
    "1. Установить последнюю версию docker из официальных apt репозиториев.\n",
    "\n",
    "2. Создайте директорию /data/logs на хост системе с правами 777 (всем доступно все - chmod 777 /data/logs)\n",
    "\n",
    "3. Запустите контейнер с именем fluentd со следующими условиями:\n",
    "- Контейнер должен пробрасывать порт 24224 внутрь контейнера\n",
    "- Директория /fluentd/log внутри контейнера должна быть подмонтирована к /data/logs на хост системе\n",
    "- Контейнер должен использовать образ fluentd:latest (с обязательным указанием тега)\n",
    "\n",
    "4. Запустите контейнер с именем nginx со следующими условиями:\n",
    "- Контейнер должен использовать образ nginx:latest (с обязательным указанием тега)\n",
    "- Драйвер логирования должен быть указан fluentd\n",
    "- Адрес fluentd сервера должен быть - 127.0.0.1:24224.\n",
    "\n",
    "5. Проверьте наличие логов в директории /data/logs."
   ]
  },
  {
   "cell_type": "code",
   "execution_count": null,
   "metadata": {},
   "outputs": [],
   "source": [
    "sudo mkdir -p /data/logs\n",
    "sudo chmod 777 /data/logs\n",
    "sudo docker run -d --name fluentd -p 24224:24224 -v /data/logs:/fluentd/log fluentd:latest\n",
    "sudo docker run -d --name nginx --log-driver fluentd --log-opt fluentd-address=127.0.0.1:24224 nginx:latest\n"
   ]
  },
  {
   "attachments": {},
   "cell_type": "markdown",
   "metadata": {},
   "source": [
    "1. Установить последнюю версию docker из официальных apt репозиториев.\n",
    "\n",
    "2. Создайте именованный volume с именем html\n",
    "\n",
    "3. Запустите контейнер с именем data в интерактивном режиме со следующими параметрами:\n",
    "- Контейнер должен монтировать именованный volume 'html' в /data внутри контейнера\n",
    "- Контейнер должен использовать образ alpine:latest (с обязательным указанием тега)\n",
    "\n",
    "4. Внутри контейнера запишите внутрь файла /data/index.html строку \"INDEX PAGE\"\n",
    "\n",
    "5. Выйдите из контейнера data\n",
    "\n",
    "6. Запустите контейнер с именем nginx со следующими условиями:\n",
    "- Контейнер должен использовать образ nginx:latest (с обязательным указанием тега)\n",
    "- Контейнер должен монтировать volume 'html' в /usr/share/nginx/html в режиме только для чтения\n",
    "- Порт 9099 должен быть проброшен в контейнер на порт 80\n",
    "\n",
    "7. Попробуйте запросить страницу 127.0.0.1:9099 с помощью curl и проверьте ответ."
   ]
  },
  {
   "cell_type": "code",
   "execution_count": null,
   "metadata": {},
   "outputs": [],
   "source": [
    "\n",
    "docker volume create html\n",
    "docker run -dit --name data -v html:/data alpine:latest\n",
    "echo \"INDEX PAGE\" > /data/index.html\n",
    "exit\n",
    "docker run -dit --name nginx -v html:/usr/share/nginx/html:ro -p 9099:80 nginx:latest\n",
    "curl 127.0.0.1:9099\n"
   ]
  },
  {
   "attachments": {},
   "cell_type": "markdown",
   "metadata": {},
   "source": [
    "1. Установить последнюю версию docker из официальных apt репозиториев.\n",
    "\n",
    "2. Создайте директорию /data/logs на хост системе с правами 777 (всем доступно все - chmod 777 /data/logs)\n",
    "\n",
    "3. Запустите контейнер с именем fluentd со следующими условиями:\n",
    "- Контейнер должен пробрасывать порт 24224 внутрь контейнера\n",
    "- Директория /fluentd/log внутри контейнера должна быть подмонтирована к /data/logs на хост системе\n",
    "- Контейнер должен использовать образ fluentd:latest\n",
    "\n",
    "4. Создайте сеть `back`\n",
    "\n",
    "5. Создайте volume с именем `mysql`\n",
    "\n",
    "6. Запустите контейнер с базой и именем mysql:\n",
    "\n",
    "    Контейнер должен использовать образ mysql:5.7\n",
    "\n",
    "    В контейнер должна передаваться ENV переменная MYSQL_DATABASE=wpdb\n",
    "\n",
    "    В контейнер должна передаваться ENV переменная MYSQL_USER=wpuser\n",
    "\n",
    "    В контейнер должна передаваться ENV переменная MYSQL_PASSWORD=wppass\n",
    "\n",
    "    В контейнер должна передаваться ENV переменная MYSQL_RANDOM_ROOT_PASSWORD=1\n",
    "\n",
    "    Volume mysql должен монтироваться в директорию /var/lib/mysql внутри контейнера\n",
    "\n",
    "    Контейнер должен находиться в сети back\n",
    "\n",
    "    Контейнер должен использовать драйвер логирования fluentd и отправлять логи на 127.0.0.1:24224\n",
    "\n",
    "7. Создайте volume с именем `uploads`\n",
    "\n",
    "8. Запустите контейнер с именем wordpress:\n",
    "\n",
    "    Контейнер должен использовать образ wordpress:latest\n",
    "\n",
    "    В контейнер должна передаваться ENV переменная WORDPRESS_DB_HOST=mysql\n",
    "\n",
    "    В контейнер должна передаваться ENV переменная WORDPRESS_DB_USER=wpuser\n",
    "\n",
    "    В контейнер должна передаваться ENV переменная WORDPRESS_DB_PASSWORD=wppass\n",
    "\n",
    "    В контейнер должна передаваться ENV переменная WORDPRESS_DB_NAME=wpdb\n",
    "\n",
    "    Volume uploads должен монтироваться в директорию /var/www/html внутри контейнера \n",
    "\n",
    "    Контейнер должен находиться в сети back\n",
    "\n",
    "    Внешний порт 80 должен пробрасываться на порт 80 внутри контейнера\n",
    "\n",
    "    Контейнер должен использовать драйвер логирования fluentd и отправлять логи на 127.0.0.1:24224\n",
    "\n",
    "9. Введите в строке браузера IP адрес вашего сервера и убедитесь, что wordpress доступен."
   ]
  },
  {
   "cell_type": "code",
   "execution_count": null,
   "metadata": {},
   "outputs": [],
   "source": [
    "mkdir /data/logs\n",
    "chmod 777 /data/logs\n",
    "\n",
    "\n",
    "docker network create back\n",
    "docker volume create mysql\n",
    "docker volume create uploads\n",
    "\n",
    "docker run --rm -d -p 24224:24224 -v /data/logs:/fluentd/log --name fluentd fluentd:latest \n",
    "\n",
    "\n",
    "docker run -d --name mysql \\\n",
    "--rm\\\n",
    "-e MYSQL_DATABASE=\"wpdb\" \\\n",
    "-e MYSQL_USER=\"wpuser\" \\\n",
    "-e MYSQL_PASSWORD=\"wppass\" \\\n",
    "-e MYSQL_RANDOM_ROOT_PASSWORD=1 \\\n",
    "-v mysql:/var/lib/mysql \\\n",
    "--network=back \\\n",
    "--log-driver=fluentd \\\n",
    "--log-opt fluentd-address=127.0.0.1:24224 \\\n",
    "mysql:5.7\n",
    "\n",
    "docker run \\\n",
    "--rm \\\n",
    "--name wordpress \\\n",
    "-d \\\n",
    "-e WORDPRESS_DB_HOST=\"mysql\" \\\n",
    "-e WORDPRESS_DB_USER=\"wpuser\" \\\n",
    "-e WORDPRESS_DB_PASSWORD=\"wppass\" \\\n",
    "-e WORDPRESS_DB_NAME=\"wpdb\" \\\n",
    "-v uploads:/var/www/html \\\n",
    "--network=back \\\n",
    "-p 80:80 \\\n",
    "--log-driver=fluentd \\\n",
    "--log-opt fluentd-address=127.0.0.1:24224 \\\n",
    "wordpress:latest "
   ]
  }
 ],
 "metadata": {
  "interpreter": {
   "hash": "916dbcbb3f70747c44a77c7bcd40155683ae19c65e1c03b4aa3499c5328201f1"
  },
  "kernelspec": {
   "display_name": "Python 3.8.10 64-bit",
   "language": "python",
   "name": "python3"
  },
  "language_info": {
   "codemirror_mode": {
    "name": "ipython",
    "version": 3
   },
   "file_extension": ".py",
   "mimetype": "text/x-python",
   "name": "python",
   "nbconvert_exporter": "python",
   "pygments_lexer": "ipython3",
   "version": "3.8.10"
  },
  "orig_nbformat": 4
 },
 "nbformat": 4,
 "nbformat_minor": 2
}
